{
 "cells": [
  {
   "cell_type": "code",
   "execution_count": 1,
   "metadata": {},
   "outputs": [
    {
     "name": "stderr",
     "output_type": "stream",
     "text": [
      "Using TensorFlow backend.\n"
     ]
    }
   ],
   "source": [
    "import os\n",
    "from pathlib import Path\n",
    "\n",
    "import numpy as np\n",
    "import pandas as pd\n",
    "import matplotlib.pyplot as plt\n",
    "from sklearn.metrics import confusion_matrix\n",
    "import tensorflow as tf\n",
    "import keras\n",
    "import keras_metrics as km\n",
    "from keras.preprocessing.image import ImageDataGenerator\n",
    "from keras import backend as K\n",
    "\n",
    "from lib.adabound import AdaBound"
   ]
  },
  {
   "cell_type": "code",
   "execution_count": 2,
   "metadata": {},
   "outputs": [],
   "source": [
    "MODEL_PATH = '/Users/sunyitao/Documents/Projects/ML_Projects/GrabAIChallenge/data/checkpoints/baseline_cnn/Xception_Imagenet/model.60-0.94.h5'\n",
    "IMAGE_SIZE = (363, 525)  # height, width\n",
    "\n",
    "os.environ['KERAS_BACKEND'] = 'plaidml.keras.backend'\n",
    "os.environ[\"CUDA_DEVICE_ORDER\"] = \"PCI_BUS_ID\"\n",
    "os.environ[\"CUDA_VISIBLE_DEVICES\"] = \"0\"\n",
    "config = tf.ConfigProto()\n",
    "config.gpu_options.allow_growth = True\n",
    "session = tf.Session(config=config)\n",
    "K.set_session(session)"
   ]
  },
  {
   "cell_type": "code",
   "execution_count": 3,
   "metadata": {},
   "outputs": [],
   "source": [
    "def get_input_data_generators_from_directory(test_directory, batch_size=32):\n",
    "    test_datagen = ImageDataGenerator(rescale=1/255)\n",
    "    test = test_datagen.flow_from_directory(test_directory, target_size=IMAGE_SIZE, shuffle=False,\n",
    "                                            color_mode='rgb', batch_size=batch_size, interpolation='lanczos')\n",
    "    return test\n",
    "\n",
    "\n",
    "def get_input_data_generator_from_csv(csv_path, test_directory=None, x_col='filename', y_col='class', batch_size=32):\n",
    "    \"\"\"Reads csv of image filenames and labels\n",
    "\n",
    "    Args:\n",
    "        csv_path (str): path to csv file\n",
    "        test_directory (str or None): path to test directory, if None, image filenames in csv needs to be full path\n",
    "        x_col and y_col (str): name of csv header for image filename and label\n",
    "    \"\"\"\n",
    "    df = pd.read_csv(csv_path)\n",
    "    test_datagen = ImageDataGenerator(rescale=1/255)\n",
    "    test = test_datagen.flow_from_dataframe(df, directory=test_directory, x_col=x_col, y_col=y_col,\n",
    "                                            target_size=IMAGE_SIZE, shuffle=False, drop_duplicates=False,\n",
    "                                            color_mode='rgb', batch_size=batch_size, interpolation='lanczos')\n",
    "    return test\n",
    "\n",
    "\n",
    "def plot_confusion_matrix(y_true, y_pred, categories,\n",
    "                          normalize=True,\n",
    "                          title=None,\n",
    "                          cmap=plt.cm.Blues,\n",
    "                          number_categories=False,\n",
    "                          normalize_axis=1):\n",
    "    \"\"\"\n",
    "    This function prints and plots the confusion matrix.\n",
    "    Normalization can be applied by setting `normalize=True`.\n",
    "    \"\"\"\n",
    "    if not title:\n",
    "        if normalize:\n",
    "            title = 'Normalized confusion matrix'\n",
    "        else:\n",
    "            title = 'Confusion matrix, without normalization'\n",
    "\n",
    "    # Compute confusion matrix\n",
    "    cm = confusion_matrix(y_true, y_pred)\n",
    "    # Only use the labels that appear in the data\n",
    "    if normalize and normalize_axis == 1:\n",
    "        cm = cm.astype('float') / cm.sum(axis=normalize_axis)[:, np.newaxis]\n",
    "    elif normalize and normalize_axis == 0:\n",
    "        cm = cm.astype('float') / cm.sum(axis=normalize_axis)[np.newaxis, :]\n",
    "        print(\"Normalized confusion matrix\")\n",
    "    else:\n",
    "        print('Confusion matrix, without normalization')\n",
    "\n",
    "    fig, ax = plt.subplots()\n",
    "    im = ax.imshow(cm, interpolation='nearest', cmap=cmap)\n",
    "    ax.figure.colorbar(im, ax=ax)\n",
    "    # We want to show all ticks...\n",
    "    ax.set(xticks=np.arange(cm.shape[1]),\n",
    "           yticks=np.arange(cm.shape[0]),\n",
    "           # ... and label them with the respective list entries\n",
    "           xticklabels=categories, yticklabels=categories,\n",
    "           title=title,\n",
    "           ylabel='True label',\n",
    "           xlabel='Predicted label')\n",
    "\n",
    "    # Rotate the tick labels and set their alignment.\n",
    "    plt.setp(ax.get_xticklabels(), rotation=45, ha=\"right\",\n",
    "             rotation_mode=\"anchor\")\n",
    "\n",
    "    # Loop over data dimensions and create text annotations.\n",
    "    fmt = '.2f' if normalize else 'd'\n",
    "    thresh = cm.max() / 2.\n",
    "    for i in range(cm.shape[0]):\n",
    "        for j in range(cm.shape[1]):\n",
    "            ax.text(j, i, format(cm[i, j], fmt),\n",
    "                    ha=\"center\", va=\"center\",\n",
    "                    color=\"white\" if cm[i, j] > thresh else \"black\")\n",
    "    fig.tight_layout()\n",
    "    fig.set_size_inches(16,16)\n",
    "    return ax"
   ]
  },
  {
   "cell_type": "code",
   "execution_count": null,
   "metadata": {},
   "outputs": [
    {
     "name": "stderr",
     "output_type": "stream",
     "text": [
      "WARNING: Logging before flag parsing goes to stderr.\n",
      "W0526 14:29:55.462031 4682696128 deprecation.py:506] From /Users/sunyitao/anaconda3/lib/python3.6/site-packages/tensorflow/python/training/moving_averages.py:211: calling Zeros.__init__ (from tensorflow.python.ops.init_ops) with dtype is deprecated and will be removed in a future version.\n",
      "Instructions for updating:\n",
      "Call initializer instance with the dtype argument instead of passing it to the constructor\n"
     ]
    },
    {
     "name": "stdout",
     "output_type": "stream",
     "text": [
      "Found 15415 images belonging to 196 classes.\n",
      "202/482 [===========>..................] - ETA: 50:17"
     ]
    }
   ],
   "source": [
    "precision = km.categorical_precision()\n",
    "recall = km.categorical_recall()\n",
    "f1_score = km.categorical_f1_score()\n",
    "model = keras.models.load_model(\n",
    "    MODEL_PATH, custom_objects={'AdaBound': AdaBound, 'categorical_precision': precision, 'categorical_recall': recall, 'categorical_f1_score': f1_score})\n",
    "test = get_input_data_generators_from_directory(\n",
    "    '/Users/sunyitao/Documents/Projects/ML_Projects/GrabAIChallenge/data/stanford-car-dataset-by-classes-folder/car_data/new_data_cleaned', batch_size=32)\n",
    "results = model.evaluate_generator(test, steps=len(test), verbose=1)\n",
    "for metric, score in zip(model.metric_names, results):\n",
    "    print(metric, score)"
   ]
  },
  {
   "cell_type": "code",
   "execution_count": null,
   "metadata": {},
   "outputs": [],
   "source": []
  }
 ],
 "metadata": {
  "kernelspec": {
   "display_name": "Python 3",
   "language": "python",
   "name": "python3"
  },
  "language_info": {
   "codemirror_mode": {
    "name": "ipython",
    "version": 3
   },
   "file_extension": ".py",
   "mimetype": "text/x-python",
   "name": "python",
   "nbconvert_exporter": "python",
   "pygments_lexer": "ipython3",
   "version": "3.6.6"
  }
 },
 "nbformat": 4,
 "nbformat_minor": 2
}
